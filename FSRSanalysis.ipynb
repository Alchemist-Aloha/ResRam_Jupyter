{
 "cells": [
  {
   "cell_type": "code",
   "execution_count": 14,
   "metadata": {},
   "outputs": [],
   "source": [
    "import sys\n",
    "import numpy as np\n",
    "import matplotlib.pyplot as plt\n",
    "from math import factorial\n",
    "from datetime import datetime\n",
    "import os\n",
    "from matplotlib.colors import ListedColormap\n",
    "import lmfit\n",
    "from tqdm.notebook import tqdm\n",
    "from resram_core import load_input, g,A, R, cross_sections, run_save, resram_data, raman_residual, param_init\n"
   ]
  },
  {
   "cell_type": "code",
   "execution_count": 15,
   "metadata": {},
   "outputs": [
    {
     "name": "stdout",
     "output_type": "stream",
     "text": [
      "<Parameter 'delta0', value=0.7748604270679489, bounds=[0.0:1.0]>\n",
      "<Parameter 'delta1', value=0.6409960961625931, bounds=[0.0:1.0]>\n",
      "<Parameter 'delta2', value=0.5872857740485251, bounds=[0.0:1.0]>\n",
      "<Parameter 'delta3', value=0.20719247724224388, bounds=[0.0:1.0]>\n",
      "<Parameter 'delta4', value=0.1607544533791192, bounds=[0.0:1.0]>\n",
      "<Parameter 'delta5', value=0.3893313623373211, bounds=[0.0:1.0]>\n",
      "<Parameter 'delta6', value=0.12074773193374017, bounds=[0.0:1.0]>\n",
      "<Parameter 'delta7', value=0.11603393193686784, bounds=[0.0:1.0]>\n",
      "<Parameter 'delta8', value=0.30537623378500867, bounds=[0.0:1.0]>\n",
      "<Parameter 'delta9', value=0.15836620976768084, bounds=[0.0:1.0]>\n",
      "<Parameter 'delta10', value=0.20742166396327966, bounds=[0.0:1.0]>\n",
      "<Parameter 'delta11', value=0.060015796848877534, bounds=[0.0:1.0]>\n",
      "<Parameter 'delta12', value=0.08745576005571493, bounds=[0.0:1.0]>\n",
      "<Parameter 'delta13', value=0.0968567706185624, bounds=[0.0:1.0]>\n",
      "<Parameter 'delta14', value=0.0916268892643442, bounds=[0.0:1.0]>\n",
      "<Parameter 'delta15', value=0.14819461962546915, bounds=[0.0:1.0]>\n",
      "<Parameter 'delta16', value=0.30004668841993537, bounds=[0.0:1.0]>\n",
      "<Parameter 'delta17', value=0.16278394768766485, bounds=[0.0:1.0]>\n",
      "<Parameter 'delta18', value=0.11414632878661801, bounds=[0.0:1.0]>\n",
      "<Parameter 'delta19', value=0.17794336344456863, bounds=[0.0:1.0]>\n",
      "<Parameter 'delta20', value=0.0877864723788272, bounds=[0.0:1.0]>\n",
      "<Parameter 'delta21', value=0.09387197455924395, bounds=[0.0:1.0]>\n",
      "<Parameter 'delta22', value=0.09196904001361855, bounds=[0.0:1.0]>\n",
      "<Parameter 'delta23', value=0.2903328027789772, bounds=[0.0:1.0]>\n",
      "<Parameter 'delta24', value=0.2174327561338542, bounds=[0.0:1.0]>\n",
      "<Parameter 'delta25', value=0.3333698440708721, bounds=[0.0:1.0]>\n",
      "<Parameter 'gamma', value=782.6556354700301, bounds=[469.5933812820181:1095.7178896580422]>\n",
      "<Parameter 'transition_length', value=1.8087809922025966, bounds=[1.4470247937620773:2.170537190643116]>\n",
      "<Parameter 'theta', value=1.0, bounds=[0.5:1.5]>\n",
      "<Parameter 'kappa', value=0.1, bounds=[0.09000000000000001:0.11000000000000001]>\n",
      "<Parameter 'E0', value=17250.0 (fixed), bounds=[-inf:inf]>\n"
     ]
    },
    {
     "ename": "NameError",
     "evalue": "name 'fit_obj' is not defined",
     "output_type": "error",
     "traceback": [
      "\u001b[1;31m---------------------------------------------------------------------------\u001b[0m",
      "\u001b[1;31mNameError\u001b[0m                                 Traceback (most recent call last)",
      "\u001b[1;32mc:\\Users\\Kent\\OneDrive - University of Rochester\\Documents\\Lab\\fsrsanalysis\\resram_ipynb\\FSRSanalysis.ipynb Cell 2\u001b[0m line \u001b[0;36m1\n\u001b[0;32m     <a href='vscode-notebook-cell:/c%3A/Users/Kent/OneDrive%20-%20University%20of%20Rochester/Documents/Lab/fsrsanalysis/resram_ipynb/FSRSanalysis.ipynb#W1sZmlsZQ%3D%3D?line=15'>16</a>\u001b[0m \u001b[39mfor\u001b[39;00m name \u001b[39min\u001b[39;00m params_lmfit\u001b[39m.\u001b[39mkeys():\n\u001b[0;32m     <a href='vscode-notebook-cell:/c%3A/Users/Kent/OneDrive%20-%20University%20of%20Rochester/Documents/Lab/fsrsanalysis/resram_ipynb/FSRSanalysis.ipynb#W1sZmlsZQ%3D%3D?line=16'>17</a>\u001b[0m     \u001b[39mprint\u001b[39m(params_lmfit[name])\n\u001b[1;32m---> <a href='vscode-notebook-cell:/c%3A/Users/Kent/OneDrive%20-%20University%20of%20Rochester/Documents/Lab/fsrsanalysis/resram_ipynb/FSRSanalysis.ipynb#W1sZmlsZQ%3D%3D?line=17'>18</a>\u001b[0m raman_residual(params_lmfit)   \u001b[39m# Calculate initial residuals for Raman spectroscopy\u001b[39;00m\n\u001b[0;32m     <a href='vscode-notebook-cell:/c%3A/Users/Kent/OneDrive%20-%20University%20of%20Rochester/Documents/Lab/fsrsanalysis/resram_ipynb/FSRSanalysis.ipynb#W1sZmlsZQ%3D%3D?line=18'>19</a>\u001b[0m fit_kws \u001b[39m=\u001b[39m \u001b[39mdict\u001b[39m(tol\u001b[39m=\u001b[39m\u001b[39m1e-7\u001b[39m)    \u001b[39m# Set fitting tolerance\u001b[39;00m\n\u001b[0;32m     <a href='vscode-notebook-cell:/c%3A/Users/Kent/OneDrive%20-%20University%20of%20Rochester/Documents/Lab/fsrsanalysis/resram_ipynb/FSRSanalysis.ipynb#W1sZmlsZQ%3D%3D?line=19'>20</a>\u001b[0m max_nfev \u001b[39m=\u001b[39m \u001b[39m10000\u001b[39m    \u001b[39m# Set maximum number of function evaluations\u001b[39;00m\n",
      "File \u001b[1;32mc:\\Users\\Kent\\OneDrive - University of Rochester\\Documents\\Lab\\fsrsanalysis\\resram_ipynb\\resram_core.py:574\u001b[0m, in \u001b[0;36mraman_residual\u001b[1;34m(param)\u001b[0m\n\u001b[0;32m    572\u001b[0m \u001b[39mglobal\u001b[39;00m fit_obj, abs_cross,fl_cross,raman_cross,boltz_state,boltz_coef\n\u001b[0;32m    573\u001b[0m \u001b[39mglobal\u001b[39;00m correlation,total_sigma,sigma_list,loss_list,correlation_list\n\u001b[1;32m--> 574\u001b[0m \u001b[39mfor\u001b[39;00m i \u001b[39min\u001b[39;00m \u001b[39mrange\u001b[39m(\u001b[39mlen\u001b[39m(fit_obj\u001b[39m.\u001b[39mdelta)):\n\u001b[0;32m    575\u001b[0m     fit_obj\u001b[39m.\u001b[39mdelta[i] \u001b[39m=\u001b[39m param\u001b[39m.\u001b[39mvaluesdict()[\u001b[39m'\u001b[39m\u001b[39mdelta\u001b[39m\u001b[39m'\u001b[39m\u001b[39m+\u001b[39m\u001b[39mstr\u001b[39m(i)]\n\u001b[0;32m    576\u001b[0m fit_obj\u001b[39m.\u001b[39mgamma \u001b[39m=\u001b[39m param\u001b[39m.\u001b[39mvaluesdict()[\u001b[39m'\u001b[39m\u001b[39mgamma\u001b[39m\u001b[39m'\u001b[39m]\n",
      "\u001b[1;31mNameError\u001b[0m: name 'fit_obj' is not defined"
     ]
    }
   ],
   "source": [
    "\n",
    "fit_obj = load_input() # Initialize the 'fit_obj' object of class 'load_input' .Load from input files in root dir\n",
    "\n",
    "fit_switch = np.ones(len(fit_obj.delta)+7)\n",
    "fit_switch[len(fit_obj.delta)] = 1  # fit gamma?\n",
    "fit_switch[len(fit_obj.delta)+1] = 1  # fit M?\n",
    "fit_switch[len(fit_obj.delta)+2] = 1  # fit theta?\n",
    "fit_switch[len(fit_obj.delta)+3] = 1  # fit kappa?\n",
    "fit_switch[len(fit_obj.delta)+5] = 0  # fit E0?\n",
    "\n",
    "correlation_list = []   # Initialize an empty list to store uvvis correlation values\n",
    "sigma_list = [] # Initialize an empty list to store raman prof sigma values\n",
    "loss_list = []  # Initialize an empty list to store total loss values\n",
    "params_lmfit = param_init(fit_obj,fit_switch)   # Initialize parameters for fitting using 'param_init' function\n",
    "# params_lmfit.add('gamma',value = 600,min = 400, max = 900)\n",
    "# params_lmfit.add('transition_length',value = 1.83,min = 1.5, max = 2.3)\n",
    "for name in params_lmfit.keys():\n",
    "    print(params_lmfit[name])\n",
    "raman_residual(params_lmfit)   # Calculate initial residuals for Raman spectroscopy\n",
    "fit_kws = dict(tol=1e-7)    # Set fitting tolerance\n",
    "max_nfev = 10000    # Set maximum number of function evaluations\n",
    "\n",
    "# Initialize tqdm progress bar for fitting process\n",
    "with tqdm(total=max_nfev, desc=\"Fitting progress\") as pbar:\n",
    "    def update_progress(params, iteration, resid):\n",
    "        # Update tqdm progress bar with fitting information\n",
    "        global correlation, total_sigma\n",
    "        pbar.update(1)\n",
    "        pbar.set_description(\n",
    "            f\"Iteration {iteration}, Total Residual: {resid:.7f}, Abs_corr: {correlation:.7f}, raman_sigma: {total_sigma:.7f}, delta: {fit_obj.delta}, M: {fit_obj.M}, Theta: {fit_obj.theta}, Kappa: {fit_obj.k}, E0: {fit_obj.E0}\")\n",
    "     # Perform the fitting using lmfit.minimize function\n",
    "    result = lmfit.minimize(raman_residual, params_lmfit, method='cobyla', **fit_kws,\n",
    "                            max_nfev=max_nfev, iter_cb=update_progress)  # max_nfev = 10000000, **fit_kws\n",
    "\n",
    "print(lmfit.fit_report(result))\n",
    "delta_fit = fit_obj.delta.copy()\n",
    "output = run_save(fit_obj)  # save all parameters and results to a new folder\n",
    "output.plot()\n",
    "np.savetxt(current_time_str+\"_data/corr_list.dat\", correlation_list)\n",
    "np.savetxt(current_time_str+\"_data/sigma_list.dat\", sigma_list)\n",
    "np.savetxt(current_time_str+\"_data/loss_list\", loss_list)\n",
    "#np.savetxt(current_time_str+\"_data/delta_fit.dat\",delta_fit,delimiter = \"\\t\") #save deltas. already saved with run_save()\n",
    "plt.plot(np.arange(len(correlation_list)), np.array(\n",
    "    correlation_list)*50, label='correlation*50')\n",
    "plt.plot(np.arange(len(sigma_list)), sigma_list, label='sigma')\n",
    "plt.plot(np.arange(len(loss_list)), loss_list, label='loss')\n",
    "plt.legend(loc='best')\n",
    "plt.show()\n"
   ]
  }
 ],
 "metadata": {
  "kernelspec": {
   "display_name": "Python 3",
   "language": "python",
   "name": "python3"
  },
  "language_info": {
   "codemirror_mode": {
    "name": "ipython",
    "version": 3
   },
   "file_extension": ".py",
   "mimetype": "text/x-python",
   "name": "python",
   "nbconvert_exporter": "python",
   "pygments_lexer": "ipython3",
   "version": "3.11.2"
  }
 },
 "nbformat": 4,
 "nbformat_minor": 2
}
